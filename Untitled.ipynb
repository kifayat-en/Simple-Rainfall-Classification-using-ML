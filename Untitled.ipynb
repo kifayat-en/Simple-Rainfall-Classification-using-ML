{
 "cells": [
  {
   "cell_type": "code",
   "execution_count": 156,
   "id": "280b926b",
   "metadata": {},
   "outputs": [],
   "source": [
    "import pandas as pd\n",
    "import numpy as np\n",
    "import matplotlib.pyplot as plt\n",
    "from sklearn.preprocessing import LabelEncoder\n",
    "from sklearn.model_selection import train_test_split\n",
    "from sklearn.metrics import accuracy_score, confusion_matrix, precision_score\n",
    "from sklearn.preprocessing import StandardScaler\n",
    "from sklearn.linear_model import LogisticRegression\n",
    "import seaborn as sns\n"
   ]
  },
  {
   "cell_type": "markdown",
   "id": "fb0b194d",
   "metadata": {},
   "source": [
    "# Load Dataset"
   ]
  },
  {
   "cell_type": "code",
   "execution_count": 157,
   "id": "1560599b",
   "metadata": {},
   "outputs": [],
   "source": [
    "data = pd.read_csv('rainfall.csv')"
   ]
  },
  {
   "cell_type": "code",
   "execution_count": 158,
   "id": "89db0f97",
   "metadata": {},
   "outputs": [
    {
     "data": {
      "text/plain": [
       "(54, 6)"
      ]
     },
     "execution_count": 158,
     "metadata": {},
     "output_type": "execute_result"
    }
   ],
   "source": [
    "data.shape # Total 54 Rows 6 Columns"
   ]
  },
  {
   "cell_type": "code",
   "execution_count": 159,
   "id": "bdf88a40",
   "metadata": {},
   "outputs": [
    {
     "data": {
      "text/html": [
       "<div>\n",
       "<style scoped>\n",
       "    .dataframe tbody tr th:only-of-type {\n",
       "        vertical-align: middle;\n",
       "    }\n",
       "\n",
       "    .dataframe tbody tr th {\n",
       "        vertical-align: top;\n",
       "    }\n",
       "\n",
       "    .dataframe thead th {\n",
       "        text-align: right;\n",
       "    }\n",
       "</style>\n",
       "<table border=\"1\" class=\"dataframe\">\n",
       "  <thead>\n",
       "    <tr style=\"text-align: right;\">\n",
       "      <th></th>\n",
       "      <th>date</th>\n",
       "      <th>rainfall</th>\n",
       "      <th>temperature</th>\n",
       "      <th>humidity</th>\n",
       "      <th>wind_speed</th>\n",
       "      <th>weather_condition</th>\n",
       "    </tr>\n",
       "  </thead>\n",
       "  <tbody>\n",
       "    <tr>\n",
       "      <th>0</th>\n",
       "      <td>2022-01-01</td>\n",
       "      <td>12.5</td>\n",
       "      <td>15.2</td>\n",
       "      <td>78.0</td>\n",
       "      <td>8.5</td>\n",
       "      <td>Rainy</td>\n",
       "    </tr>\n",
       "    <tr>\n",
       "      <th>1</th>\n",
       "      <td>2022-01-02</td>\n",
       "      <td>8.2</td>\n",
       "      <td>17.8</td>\n",
       "      <td>65.0</td>\n",
       "      <td>5.2</td>\n",
       "      <td>Rainy</td>\n",
       "    </tr>\n",
       "    <tr>\n",
       "      <th>2</th>\n",
       "      <td>2022-01-03</td>\n",
       "      <td>0.0</td>\n",
       "      <td>20.1</td>\n",
       "      <td>52.0</td>\n",
       "      <td>3.1</td>\n",
       "      <td>Sunny</td>\n",
       "    </tr>\n",
       "    <tr>\n",
       "      <th>3</th>\n",
       "      <td>2022-01-04</td>\n",
       "      <td>3.7</td>\n",
       "      <td>18.6</td>\n",
       "      <td>71.0</td>\n",
       "      <td>6.7</td>\n",
       "      <td>Rainy</td>\n",
       "    </tr>\n",
       "    <tr>\n",
       "      <th>4</th>\n",
       "      <td>2022-01-05</td>\n",
       "      <td>21.1</td>\n",
       "      <td>14.8</td>\n",
       "      <td>82.0</td>\n",
       "      <td>9.3</td>\n",
       "      <td>Rainy</td>\n",
       "    </tr>\n",
       "  </tbody>\n",
       "</table>\n",
       "</div>"
      ],
      "text/plain": [
       "         date  rainfall  temperature  humidity  wind_speed weather_condition\n",
       "0  2022-01-01      12.5         15.2      78.0         8.5             Rainy\n",
       "1  2022-01-02       8.2         17.8      65.0         5.2             Rainy\n",
       "2  2022-01-03       0.0         20.1      52.0         3.1             Sunny\n",
       "3  2022-01-04       3.7         18.6      71.0         6.7             Rainy\n",
       "4  2022-01-05      21.1         14.8      82.0         9.3             Rainy"
      ]
     },
     "execution_count": 159,
     "metadata": {},
     "output_type": "execute_result"
    }
   ],
   "source": [
    "data.head()"
   ]
  },
  {
   "cell_type": "markdown",
   "id": "ee771ad6",
   "metadata": {},
   "source": [
    "# Check Null Values"
   ]
  },
  {
   "cell_type": "code",
   "execution_count": 160,
   "id": "a067c536",
   "metadata": {},
   "outputs": [
    {
     "data": {
      "text/plain": [
       "date                 0\n",
       "rainfall             1\n",
       "temperature          1\n",
       "humidity             1\n",
       "wind_speed           1\n",
       "weather_condition    1\n",
       "dtype: int64"
      ]
     },
     "execution_count": 160,
     "metadata": {},
     "output_type": "execute_result"
    }
   ],
   "source": [
    "data.isnull().sum()"
   ]
  },
  {
   "cell_type": "markdown",
   "id": "8fb71f9f",
   "metadata": {},
   "source": [
    "# Check duplicated values"
   ]
  },
  {
   "cell_type": "code",
   "execution_count": 161,
   "id": "16a39fcd",
   "metadata": {},
   "outputs": [
    {
     "data": {
      "text/plain": [
       "0.0"
      ]
     },
     "execution_count": 161,
     "metadata": {},
     "output_type": "execute_result"
    }
   ],
   "source": [
    "data.duplicated().mean()"
   ]
  },
  {
   "cell_type": "markdown",
   "id": "be52d946",
   "metadata": {},
   "source": [
    "# Data summarize"
   ]
  },
  {
   "cell_type": "code",
   "execution_count": 162,
   "id": "1c35bcad",
   "metadata": {},
   "outputs": [
    {
     "name": "stdout",
     "output_type": "stream",
     "text": [
      "<class 'pandas.core.frame.DataFrame'>\n",
      "RangeIndex: 54 entries, 0 to 53\n",
      "Data columns (total 6 columns):\n",
      " #   Column             Non-Null Count  Dtype  \n",
      "---  ------             --------------  -----  \n",
      " 0   date               54 non-null     object \n",
      " 1   rainfall           53 non-null     float64\n",
      " 2   temperature        53 non-null     float64\n",
      " 3   humidity           53 non-null     float64\n",
      " 4   wind_speed         53 non-null     float64\n",
      " 5   weather_condition  53 non-null     object \n",
      "dtypes: float64(4), object(2)\n",
      "memory usage: 2.7+ KB\n"
     ]
    }
   ],
   "source": [
    "data.info()"
   ]
  },
  {
   "cell_type": "code",
   "execution_count": 163,
   "id": "b719adeb",
   "metadata": {},
   "outputs": [
    {
     "data": {
      "text/html": [
       "<div>\n",
       "<style scoped>\n",
       "    .dataframe tbody tr th:only-of-type {\n",
       "        vertical-align: middle;\n",
       "    }\n",
       "\n",
       "    .dataframe tbody tr th {\n",
       "        vertical-align: top;\n",
       "    }\n",
       "\n",
       "    .dataframe thead th {\n",
       "        text-align: right;\n",
       "    }\n",
       "</style>\n",
       "<table border=\"1\" class=\"dataframe\">\n",
       "  <thead>\n",
       "    <tr style=\"text-align: right;\">\n",
       "      <th></th>\n",
       "      <th>rainfall</th>\n",
       "      <th>temperature</th>\n",
       "      <th>humidity</th>\n",
       "      <th>wind_speed</th>\n",
       "    </tr>\n",
       "  </thead>\n",
       "  <tbody>\n",
       "    <tr>\n",
       "      <th>count</th>\n",
       "      <td>53.000000</td>\n",
       "      <td>53.000000</td>\n",
       "      <td>53.000000</td>\n",
       "      <td>53.000000</td>\n",
       "    </tr>\n",
       "    <tr>\n",
       "      <th>mean</th>\n",
       "      <td>9.049057</td>\n",
       "      <td>17.950943</td>\n",
       "      <td>69.245283</td>\n",
       "      <td>6.403774</td>\n",
       "    </tr>\n",
       "    <tr>\n",
       "      <th>std</th>\n",
       "      <td>6.712521</td>\n",
       "      <td>2.500663</td>\n",
       "      <td>11.969361</td>\n",
       "      <td>2.209069</td>\n",
       "    </tr>\n",
       "    <tr>\n",
       "      <th>min</th>\n",
       "      <td>0.000000</td>\n",
       "      <td>13.900000</td>\n",
       "      <td>44.000000</td>\n",
       "      <td>2.100000</td>\n",
       "    </tr>\n",
       "    <tr>\n",
       "      <th>25%</th>\n",
       "      <td>3.900000</td>\n",
       "      <td>16.100000</td>\n",
       "      <td>62.000000</td>\n",
       "      <td>4.700000</td>\n",
       "    </tr>\n",
       "    <tr>\n",
       "      <th>50%</th>\n",
       "      <td>8.300000</td>\n",
       "      <td>17.800000</td>\n",
       "      <td>72.000000</td>\n",
       "      <td>6.700000</td>\n",
       "    </tr>\n",
       "    <tr>\n",
       "      <th>75%</th>\n",
       "      <td>14.800000</td>\n",
       "      <td>19.400000</td>\n",
       "      <td>78.000000</td>\n",
       "      <td>8.300000</td>\n",
       "    </tr>\n",
       "    <tr>\n",
       "      <th>max</th>\n",
       "      <td>21.800000</td>\n",
       "      <td>23.400000</td>\n",
       "      <td>89.000000</td>\n",
       "      <td>10.500000</td>\n",
       "    </tr>\n",
       "  </tbody>\n",
       "</table>\n",
       "</div>"
      ],
      "text/plain": [
       "        rainfall  temperature   humidity  wind_speed\n",
       "count  53.000000    53.000000  53.000000   53.000000\n",
       "mean    9.049057    17.950943  69.245283    6.403774\n",
       "std     6.712521     2.500663  11.969361    2.209069\n",
       "min     0.000000    13.900000  44.000000    2.100000\n",
       "25%     3.900000    16.100000  62.000000    4.700000\n",
       "50%     8.300000    17.800000  72.000000    6.700000\n",
       "75%    14.800000    19.400000  78.000000    8.300000\n",
       "max    21.800000    23.400000  89.000000   10.500000"
      ]
     },
     "execution_count": 163,
     "metadata": {},
     "output_type": "execute_result"
    }
   ],
   "source": [
    "data.describe()"
   ]
  },
  {
   "cell_type": "markdown",
   "id": "7d6e3e95",
   "metadata": {},
   "source": [
    "# remove Null values"
   ]
  },
  {
   "cell_type": "code",
   "execution_count": 164,
   "id": "d811df34",
   "metadata": {},
   "outputs": [],
   "source": [
    "data =  data.dropna()"
   ]
  },
  {
   "cell_type": "code",
   "execution_count": 165,
   "id": "811a5580",
   "metadata": {},
   "outputs": [
    {
     "data": {
      "text/plain": [
       "(53, 6)"
      ]
     },
     "execution_count": 165,
     "metadata": {},
     "output_type": "execute_result"
    }
   ],
   "source": [
    "data.shape"
   ]
  },
  {
   "cell_type": "markdown",
   "id": "2f4afa72",
   "metadata": {},
   "source": [
    "# remove unnecessary columns"
   ]
  },
  {
   "cell_type": "code",
   "execution_count": 166,
   "id": "7eb3a178",
   "metadata": {},
   "outputs": [],
   "source": [
    "data  = data.drop(['date'], axis=1)"
   ]
  },
  {
   "cell_type": "code",
   "execution_count": 167,
   "id": "1805e726",
   "metadata": {},
   "outputs": [
    {
     "data": {
      "text/plain": [
       "Rainy    42\n",
       "Sunny    11\n",
       "Name: weather_condition, dtype: int64"
      ]
     },
     "execution_count": 167,
     "metadata": {},
     "output_type": "execute_result"
    }
   ],
   "source": [
    "data['weather_condition'].value_counts()"
   ]
  },
  {
   "cell_type": "code",
   "execution_count": 168,
   "id": "9c7c7816",
   "metadata": {},
   "outputs": [
    {
     "data": {
      "image/png": "[encoded data removed]",
      "text/plain": [
       "<Figure size 432x288 with 1 Axes>"
      ]
     },
     "metadata": {
      "needs_background": "light"
     },
     "output_type": "display_data"
    }
   ],
   "source": [
    "sns.countplot(x=data['weather_condition'], palette='Reds')\n",
    "plt.show()"
   ]
  },
  {
   "cell_type": "markdown",
   "id": "ffa071fa",
   "metadata": {},
   "source": [
    "# Label Encoding"
   ]
  },
  {
   "cell_type": "code",
   "execution_count": 169,
   "id": "eb1b6ea0",
   "metadata": {},
   "outputs": [],
   "source": [
    "lr  = LabelEncoder()\n",
    "data['weather_condition'] = lr.fit_transform(data['weather_condition']) # Rainy = 0, Sunny=1"
   ]
  },
  {
   "cell_type": "code",
   "execution_count": 170,
   "id": "f377fd46",
   "metadata": {},
   "outputs": [
    {
     "data": {
      "text/html": [
       "<div>\n",
       "<style scoped>\n",
       "    .dataframe tbody tr th:only-of-type {\n",
       "        vertical-align: middle;\n",
       "    }\n",
       "\n",
       "    .dataframe tbody tr th {\n",
       "        vertical-align: top;\n",
       "    }\n",
       "\n",
       "    .dataframe thead th {\n",
       "        text-align: right;\n",
       "    }\n",
       "</style>\n",
       "<table border=\"1\" class=\"dataframe\">\n",
       "  <thead>\n",
       "    <tr style=\"text-align: right;\">\n",
       "      <th></th>\n",
       "      <th>rainfall</th>\n",
       "      <th>temperature</th>\n",
       "      <th>humidity</th>\n",
       "      <th>wind_speed</th>\n",
       "      <th>weather_condition</th>\n",
       "    </tr>\n",
       "  </thead>\n",
       "  <tbody>\n",
       "    <tr>\n",
       "      <th>0</th>\n",
       "      <td>12.5</td>\n",
       "      <td>15.2</td>\n",
       "      <td>78.0</td>\n",
       "      <td>8.5</td>\n",
       "      <td>0</td>\n",
       "    </tr>\n",
       "    <tr>\n",
       "      <th>1</th>\n",
       "      <td>8.2</td>\n",
       "      <td>17.8</td>\n",
       "      <td>65.0</td>\n",
       "      <td>5.2</td>\n",
       "      <td>0</td>\n",
       "    </tr>\n",
       "    <tr>\n",
       "      <th>2</th>\n",
       "      <td>0.0</td>\n",
       "      <td>20.1</td>\n",
       "      <td>52.0</td>\n",
       "      <td>3.1</td>\n",
       "      <td>1</td>\n",
       "    </tr>\n",
       "    <tr>\n",
       "      <th>3</th>\n",
       "      <td>3.7</td>\n",
       "      <td>18.6</td>\n",
       "      <td>71.0</td>\n",
       "      <td>6.7</td>\n",
       "      <td>0</td>\n",
       "    </tr>\n",
       "    <tr>\n",
       "      <th>4</th>\n",
       "      <td>21.1</td>\n",
       "      <td>14.8</td>\n",
       "      <td>82.0</td>\n",
       "      <td>9.3</td>\n",
       "      <td>0</td>\n",
       "    </tr>\n",
       "    <tr>\n",
       "      <th>5</th>\n",
       "      <td>15.3</td>\n",
       "      <td>16.5</td>\n",
       "      <td>75.0</td>\n",
       "      <td>7.8</td>\n",
       "      <td>0</td>\n",
       "    </tr>\n",
       "    <tr>\n",
       "      <th>6</th>\n",
       "      <td>6.8</td>\n",
       "      <td>19.2</td>\n",
       "      <td>61.0</td>\n",
       "      <td>4.5</td>\n",
       "      <td>0</td>\n",
       "    </tr>\n",
       "    <tr>\n",
       "      <th>7</th>\n",
       "      <td>0.0</td>\n",
       "      <td>21.7</td>\n",
       "      <td>48.0</td>\n",
       "      <td>2.9</td>\n",
       "      <td>1</td>\n",
       "    </tr>\n",
       "    <tr>\n",
       "      <th>8</th>\n",
       "      <td>11.2</td>\n",
       "      <td>17.3</td>\n",
       "      <td>73.0</td>\n",
       "      <td>6.1</td>\n",
       "      <td>0</td>\n",
       "    </tr>\n",
       "    <tr>\n",
       "      <th>9</th>\n",
       "      <td>18.6</td>\n",
       "      <td>15.8</td>\n",
       "      <td>79.0</td>\n",
       "      <td>8.9</td>\n",
       "      <td>0</td>\n",
       "    </tr>\n",
       "    <tr>\n",
       "      <th>10</th>\n",
       "      <td>9.5</td>\n",
       "      <td>16.2</td>\n",
       "      <td>72.0</td>\n",
       "      <td>5.7</td>\n",
       "      <td>0</td>\n",
       "    </tr>\n",
       "    <tr>\n",
       "      <th>11</th>\n",
       "      <td>2.1</td>\n",
       "      <td>19.8</td>\n",
       "      <td>58.0</td>\n",
       "      <td>3.5</td>\n",
       "      <td>0</td>\n",
       "    </tr>\n",
       "    <tr>\n",
       "      <th>12</th>\n",
       "      <td>0.0</td>\n",
       "      <td>22.4</td>\n",
       "      <td>45.0</td>\n",
       "      <td>2.1</td>\n",
       "      <td>1</td>\n",
       "    </tr>\n",
       "    <tr>\n",
       "      <th>13</th>\n",
       "      <td>7.4</td>\n",
       "      <td>17.9</td>\n",
       "      <td>69.0</td>\n",
       "      <td>6.5</td>\n",
       "      <td>0</td>\n",
       "    </tr>\n",
       "    <tr>\n",
       "      <th>14</th>\n",
       "      <td>14.9</td>\n",
       "      <td>15.1</td>\n",
       "      <td>81.0</td>\n",
       "      <td>8.7</td>\n",
       "      <td>0</td>\n",
       "    </tr>\n",
       "    <tr>\n",
       "      <th>15</th>\n",
       "      <td>19.2</td>\n",
       "      <td>16.8</td>\n",
       "      <td>77.0</td>\n",
       "      <td>7.2</td>\n",
       "      <td>0</td>\n",
       "    </tr>\n",
       "    <tr>\n",
       "      <th>16</th>\n",
       "      <td>5.6</td>\n",
       "      <td>18.5</td>\n",
       "      <td>63.0</td>\n",
       "      <td>4.9</td>\n",
       "      <td>0</td>\n",
       "    </tr>\n",
       "    <tr>\n",
       "      <th>17</th>\n",
       "      <td>0.0</td>\n",
       "      <td>21.2</td>\n",
       "      <td>51.0</td>\n",
       "      <td>3.3</td>\n",
       "      <td>1</td>\n",
       "    </tr>\n",
       "    <tr>\n",
       "      <th>18</th>\n",
       "      <td>10.8</td>\n",
       "      <td>17.6</td>\n",
       "      <td>75.0</td>\n",
       "      <td>6.7</td>\n",
       "      <td>0</td>\n",
       "    </tr>\n",
       "    <tr>\n",
       "      <th>19</th>\n",
       "      <td>16.3</td>\n",
       "      <td>14.5</td>\n",
       "      <td>84.0</td>\n",
       "      <td>9.1</td>\n",
       "      <td>0</td>\n",
       "    </tr>\n",
       "    <tr>\n",
       "      <th>20</th>\n",
       "      <td>3.9</td>\n",
       "      <td>16.1</td>\n",
       "      <td>71.0</td>\n",
       "      <td>5.3</td>\n",
       "      <td>0</td>\n",
       "    </tr>\n",
       "    <tr>\n",
       "      <th>21</th>\n",
       "      <td>0.0</td>\n",
       "      <td>19.4</td>\n",
       "      <td>59.0</td>\n",
       "      <td>4.1</td>\n",
       "      <td>1</td>\n",
       "    </tr>\n",
       "    <tr>\n",
       "      <th>22</th>\n",
       "      <td>7.1</td>\n",
       "      <td>18.2</td>\n",
       "      <td>67.0</td>\n",
       "      <td>7.1</td>\n",
       "      <td>0</td>\n",
       "    </tr>\n",
       "    <tr>\n",
       "      <th>23</th>\n",
       "      <td>12.7</td>\n",
       "      <td>15.7</td>\n",
       "      <td>79.0</td>\n",
       "      <td>8.3</td>\n",
       "      <td>0</td>\n",
       "    </tr>\n",
       "    <tr>\n",
       "      <th>24</th>\n",
       "      <td>18.4</td>\n",
       "      <td>17.1</td>\n",
       "      <td>76.0</td>\n",
       "      <td>6.8</td>\n",
       "      <td>0</td>\n",
       "    </tr>\n",
       "    <tr>\n",
       "      <th>25</th>\n",
       "      <td>9.8</td>\n",
       "      <td>19.7</td>\n",
       "      <td>62.0</td>\n",
       "      <td>4.7</td>\n",
       "      <td>0</td>\n",
       "    </tr>\n",
       "    <tr>\n",
       "      <th>26</th>\n",
       "      <td>0.0</td>\n",
       "      <td>22.9</td>\n",
       "      <td>47.0</td>\n",
       "      <td>2.5</td>\n",
       "      <td>1</td>\n",
       "    </tr>\n",
       "    <tr>\n",
       "      <th>27</th>\n",
       "      <td>6.2</td>\n",
       "      <td>18.5</td>\n",
       "      <td>70.0</td>\n",
       "      <td>7.3</td>\n",
       "      <td>0</td>\n",
       "    </tr>\n",
       "    <tr>\n",
       "      <th>28</th>\n",
       "      <td>15.5</td>\n",
       "      <td>14.2</td>\n",
       "      <td>83.0</td>\n",
       "      <td>9.5</td>\n",
       "      <td>0</td>\n",
       "    </tr>\n",
       "    <tr>\n",
       "      <th>29</th>\n",
       "      <td>21.8</td>\n",
       "      <td>16.4</td>\n",
       "      <td>78.0</td>\n",
       "      <td>7.6</td>\n",
       "      <td>0</td>\n",
       "    </tr>\n",
       "    <tr>\n",
       "      <th>30</th>\n",
       "      <td>11.6</td>\n",
       "      <td>19.1</td>\n",
       "      <td>65.0</td>\n",
       "      <td>5.1</td>\n",
       "      <td>0</td>\n",
       "    </tr>\n",
       "    <tr>\n",
       "      <th>31</th>\n",
       "      <td>0.0</td>\n",
       "      <td>21.6</td>\n",
       "      <td>53.0</td>\n",
       "      <td>3.7</td>\n",
       "      <td>1</td>\n",
       "    </tr>\n",
       "    <tr>\n",
       "      <th>32</th>\n",
       "      <td>4.3</td>\n",
       "      <td>17.2</td>\n",
       "      <td>73.0</td>\n",
       "      <td>7.5</td>\n",
       "      <td>0</td>\n",
       "    </tr>\n",
       "    <tr>\n",
       "      <th>33</th>\n",
       "      <td>9.1</td>\n",
       "      <td>15.4</td>\n",
       "      <td>81.0</td>\n",
       "      <td>8.9</td>\n",
       "      <td>0</td>\n",
       "    </tr>\n",
       "    <tr>\n",
       "      <th>34</th>\n",
       "      <td>17.9</td>\n",
       "      <td>16.7</td>\n",
       "      <td>77.0</td>\n",
       "      <td>6.2</td>\n",
       "      <td>0</td>\n",
       "    </tr>\n",
       "    <tr>\n",
       "      <th>35</th>\n",
       "      <td>7.5</td>\n",
       "      <td>18.9</td>\n",
       "      <td>64.0</td>\n",
       "      <td>4.3</td>\n",
       "      <td>0</td>\n",
       "    </tr>\n",
       "    <tr>\n",
       "      <th>36</th>\n",
       "      <td>0.0</td>\n",
       "      <td>22.1</td>\n",
       "      <td>49.0</td>\n",
       "      <td>2.7</td>\n",
       "      <td>1</td>\n",
       "    </tr>\n",
       "    <tr>\n",
       "      <th>37</th>\n",
       "      <td>5.8</td>\n",
       "      <td>17.8</td>\n",
       "      <td>72.0</td>\n",
       "      <td>6.9</td>\n",
       "      <td>0</td>\n",
       "    </tr>\n",
       "    <tr>\n",
       "      <th>38</th>\n",
       "      <td>13.2</td>\n",
       "      <td>14.7</td>\n",
       "      <td>85.0</td>\n",
       "      <td>9.3</td>\n",
       "      <td>0</td>\n",
       "    </tr>\n",
       "    <tr>\n",
       "      <th>39</th>\n",
       "      <td>19.6</td>\n",
       "      <td>16.2</td>\n",
       "      <td>79.0</td>\n",
       "      <td>7.8</td>\n",
       "      <td>0</td>\n",
       "    </tr>\n",
       "    <tr>\n",
       "      <th>40</th>\n",
       "      <td>10.4</td>\n",
       "      <td>19.5</td>\n",
       "      <td>66.0</td>\n",
       "      <td>5.5</td>\n",
       "      <td>0</td>\n",
       "    </tr>\n",
       "    <tr>\n",
       "      <th>41</th>\n",
       "      <td>0.0</td>\n",
       "      <td>23.4</td>\n",
       "      <td>44.0</td>\n",
       "      <td>3.1</td>\n",
       "      <td>1</td>\n",
       "    </tr>\n",
       "    <tr>\n",
       "      <th>42</th>\n",
       "      <td>6.7</td>\n",
       "      <td>18.1</td>\n",
       "      <td>74.0</td>\n",
       "      <td>7.7</td>\n",
       "      <td>0</td>\n",
       "    </tr>\n",
       "    <tr>\n",
       "      <th>43</th>\n",
       "      <td>14.8</td>\n",
       "      <td>13.9</td>\n",
       "      <td>87.0</td>\n",
       "      <td>9.9</td>\n",
       "      <td>0</td>\n",
       "    </tr>\n",
       "    <tr>\n",
       "      <th>44</th>\n",
       "      <td>20.5</td>\n",
       "      <td>15.6</td>\n",
       "      <td>81.0</td>\n",
       "      <td>8.2</td>\n",
       "      <td>0</td>\n",
       "    </tr>\n",
       "    <tr>\n",
       "      <th>45</th>\n",
       "      <td>8.3</td>\n",
       "      <td>19.2</td>\n",
       "      <td>68.0</td>\n",
       "      <td>6.1</td>\n",
       "      <td>0</td>\n",
       "    </tr>\n",
       "    <tr>\n",
       "      <th>46</th>\n",
       "      <td>0.0</td>\n",
       "      <td>22.7</td>\n",
       "      <td>51.0</td>\n",
       "      <td>4.5</td>\n",
       "      <td>1</td>\n",
       "    </tr>\n",
       "    <tr>\n",
       "      <th>47</th>\n",
       "      <td>5.1</td>\n",
       "      <td>17.4</td>\n",
       "      <td>75.0</td>\n",
       "      <td>8.3</td>\n",
       "      <td>0</td>\n",
       "    </tr>\n",
       "    <tr>\n",
       "      <th>48</th>\n",
       "      <td>11.9</td>\n",
       "      <td>14.1</td>\n",
       "      <td>89.0</td>\n",
       "      <td>10.5</td>\n",
       "      <td>0</td>\n",
       "    </tr>\n",
       "    <tr>\n",
       "      <th>49</th>\n",
       "      <td>17.3</td>\n",
       "      <td>15.9</td>\n",
       "      <td>83.0</td>\n",
       "      <td>8.6</td>\n",
       "      <td>0</td>\n",
       "    </tr>\n",
       "    <tr>\n",
       "      <th>50</th>\n",
       "      <td>9.6</td>\n",
       "      <td>18.6</td>\n",
       "      <td>71.0</td>\n",
       "      <td>6.7</td>\n",
       "      <td>0</td>\n",
       "    </tr>\n",
       "    <tr>\n",
       "      <th>51</th>\n",
       "      <td>0.0</td>\n",
       "      <td>21.3</td>\n",
       "      <td>55.0</td>\n",
       "      <td>5.1</td>\n",
       "      <td>1</td>\n",
       "    </tr>\n",
       "    <tr>\n",
       "      <th>52</th>\n",
       "      <td>7.4</td>\n",
       "      <td>16.8</td>\n",
       "      <td>77.0</td>\n",
       "      <td>8.9</td>\n",
       "      <td>0</td>\n",
       "    </tr>\n",
       "  </tbody>\n",
       "</table>\n",
       "</div>"
      ],
      "text/plain": [
       "    rainfall  temperature  humidity  wind_speed  weather_condition\n",
       "0       12.5         15.2      78.0         8.5                  0\n",
       "1        8.2         17.8      65.0         5.2                  0\n",
       "2        0.0         20.1      52.0         3.1                  1\n",
       "3        3.7         18.6      71.0         6.7                  0\n",
       "4       21.1         14.8      82.0         9.3                  0\n",
       "5       15.3         16.5      75.0         7.8                  0\n",
       "6        6.8         19.2      61.0         4.5                  0\n",
       "7        0.0         21.7      48.0         2.9                  1\n",
       "8       11.2         17.3      73.0         6.1                  0\n",
       "9       18.6         15.8      79.0         8.9                  0\n",
       "10       9.5         16.2      72.0         5.7                  0\n",
       "11       2.1         19.8      58.0         3.5                  0\n",
       "12       0.0         22.4      45.0         2.1                  1\n",
       "13       7.4         17.9      69.0         6.5                  0\n",
       "14      14.9         15.1      81.0         8.7                  0\n",
       "15      19.2         16.8      77.0         7.2                  0\n",
       "16       5.6         18.5      63.0         4.9                  0\n",
       "17       0.0         21.2      51.0         3.3                  1\n",
       "18      10.8         17.6      75.0         6.7                  0\n",
       "19      16.3         14.5      84.0         9.1                  0\n",
       "20       3.9         16.1      71.0         5.3                  0\n",
       "21       0.0         19.4      59.0         4.1                  1\n",
       "22       7.1         18.2      67.0         7.1                  0\n",
       "23      12.7         15.7      79.0         8.3                  0\n",
       "24      18.4         17.1      76.0         6.8                  0\n",
       "25       9.8         19.7      62.0         4.7                  0\n",
       "26       0.0         22.9      47.0         2.5                  1\n",
       "27       6.2         18.5      70.0         7.3                  0\n",
       "28      15.5         14.2      83.0         9.5                  0\n",
       "29      21.8         16.4      78.0         7.6                  0\n",
       "30      11.6         19.1      65.0         5.1                  0\n",
       "31       0.0         21.6      53.0         3.7                  1\n",
       "32       4.3         17.2      73.0         7.5                  0\n",
       "33       9.1         15.4      81.0         8.9                  0\n",
       "34      17.9         16.7      77.0         6.2                  0\n",
       "35       7.5         18.9      64.0         4.3                  0\n",
       "36       0.0         22.1      49.0         2.7                  1\n",
       "37       5.8         17.8      72.0         6.9                  0\n",
       "38      13.2         14.7      85.0         9.3                  0\n",
       "39      19.6         16.2      79.0         7.8                  0\n",
       "40      10.4         19.5      66.0         5.5                  0\n",
       "41       0.0         23.4      44.0         3.1                  1\n",
       "42       6.7         18.1      74.0         7.7                  0\n",
       "43      14.8         13.9      87.0         9.9                  0\n",
       "44      20.5         15.6      81.0         8.2                  0\n",
       "45       8.3         19.2      68.0         6.1                  0\n",
       "46       0.0         22.7      51.0         4.5                  1\n",
       "47       5.1         17.4      75.0         8.3                  0\n",
       "48      11.9         14.1      89.0        10.5                  0\n",
       "49      17.3         15.9      83.0         8.6                  0\n",
       "50       9.6         18.6      71.0         6.7                  0\n",
       "51       0.0         21.3      55.0         5.1                  1\n",
       "52       7.4         16.8      77.0         8.9                  0"
      ]
     },
     "execution_count": 170,
     "metadata": {},
     "output_type": "execute_result"
    }
   ],
   "source": [
    "data "
   ]
  },
  {
   "cell_type": "markdown",
   "id": "7d90d888",
   "metadata": {},
   "source": [
    "# train test split\n"
   ]
  },
  {
   "cell_type": "code",
   "execution_count": 171,
   "id": "41de488b",
   "metadata": {},
   "outputs": [],
   "source": [
    "X = data.drop(columns=['weather_condition'])\n",
    "y = data['weather_condition']"
   ]
  },
  {
   "cell_type": "code",
   "execution_count": 172,
   "id": "fa8ec7e6",
   "metadata": {},
   "outputs": [],
   "source": [
    "X_train,X_test, y_train,y_test = train_test_split(X,y, test_size=0.2)"
   ]
  },
  {
   "cell_type": "code",
   "execution_count": 173,
   "id": "7a7cad89",
   "metadata": {},
   "outputs": [
    {
     "data": {
      "text/plain": [
       "(11, 4)"
      ]
     },
     "execution_count": 173,
     "metadata": {},
     "output_type": "execute_result"
    }
   ],
   "source": [
    "X_test.shape"
   ]
  },
  {
   "cell_type": "code",
   "execution_count": 174,
   "id": "d6d7c83b",
   "metadata": {},
   "outputs": [
    {
     "data": {
      "text/plain": [
       "(11,)"
      ]
     },
     "execution_count": 174,
     "metadata": {},
     "output_type": "execute_result"
    }
   ],
   "source": [
    "y_test.shape"
   ]
  },
  {
   "cell_type": "markdown",
   "id": "3bfb52a8",
   "metadata": {},
   "source": [
    "# Scaling Data"
   ]
  },
  {
   "cell_type": "code",
   "execution_count": 175,
   "id": "56ceccb2",
   "metadata": {},
   "outputs": [],
   "source": [
    "scaler = StandardScaler()\n",
    "scaler.fit(X_train, X_test)\n",
    "X_train = scaler.transform(X_train)\n",
    "X_test = scaler.transform(X_test)"
   ]
  },
  {
   "cell_type": "markdown",
   "id": "e4965bd1",
   "metadata": {},
   "source": [
    "# Logistic  Regression"
   ]
  },
  {
   "cell_type": "code",
   "execution_count": 176,
   "id": "0a4a832e",
   "metadata": {},
   "outputs": [
    {
     "data": {
      "text/plain": [
       "LogisticRegression()"
      ]
     },
     "execution_count": 176,
     "metadata": {},
     "output_type": "execute_result"
    }
   ],
   "source": [
    "lr = LogisticRegression()\n",
    "lr.fit(X_train, y_train)"
   ]
  },
  {
   "cell_type": "code",
   "execution_count": 177,
   "id": "d004700f",
   "metadata": {},
   "outputs": [],
   "source": [
    "y_prediction = lr.predict(X_test)"
   ]
  },
  {
   "cell_type": "code",
   "execution_count": 178,
   "id": "ea277a4f",
   "metadata": {},
   "outputs": [
    {
     "name": "stdout",
     "output_type": "stream",
     "text": [
      "1.0\n",
      "1.0\n"
     ]
    }
   ],
   "source": [
    "print(accuracy_score(y_test, y_prediction))\n",
    "print(precision_score(y_test, y_prediction))"
   ]
  },
  {
   "cell_type": "code",
   "execution_count": 179,
   "id": "6e3998e0",
   "metadata": {},
   "outputs": [],
   "source": [
    "confution = confusion_matrix(y_test, y_prediction)\n"
   ]
  },
  {
   "cell_type": "code",
   "execution_count": 180,
   "id": "e5d95511",
   "metadata": {},
   "outputs": [
    {
     "data": {
      "image/png": "[encoded data removed]",
      "text/plain": [
       "<Figure size 432x288 with 2 Axes>"
      ]
     },
     "metadata": {
      "needs_background": "light"
     },
     "output_type": "display_data"
    }
   ],
   "source": [
    "sns.heatmap(confution, annot=True, cmap='YlOrBr' )\n",
    "plt.show()"
   ]
  },
  {
   "cell_type": "code",
   "execution_count": null,
   "id": "68475507",
   "metadata": {},
   "outputs": [],
   "source": []
  }
 ],
 "metadata": {
  "kernelspec": {
   "display_name": "Python 3 (ipykernel)",
   "language": "python",
   "name": "python3"
  },
  "language_info": {
   "codemirror_mode": {
    "name": "ipython",
    "version": 3
   },
   "file_extension": ".py",
   "mimetype": "text/x-python",
   "name": "python",
   "nbconvert_exporter": "python",
   "pygments_lexer": "ipython3",
   "version": "3.9.12"
  }
 },
 "nbformat": 4,
 "nbformat_minor": 5
}
